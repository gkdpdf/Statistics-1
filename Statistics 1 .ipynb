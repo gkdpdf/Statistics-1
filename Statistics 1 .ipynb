{
 "cells": [
  {
   "cell_type": "markdown",
   "id": "5f2969f1-2643-465a-8d68-5bca764aedf0",
   "metadata": {},
   "source": [
    "#1 \n",
    "Statistics is the science of collecting,organizing and analyzing data"
   ]
  },
  {
   "cell_type": "markdown",
   "id": "f5d8811f-c5af-491c-8d2e-0b36a43799ff",
   "metadata": {},
   "source": [
    "#2 \n",
    "Types of Statistics : \n",
    "    1. Descriptive Statistics \n",
    "    2. Inferential Statistics \n",
    "Descriptive statistics : it consists of the organizing and summarising data \n",
    "e.g.,What is the average height of the class?\n",
    "\n",
    "Inferential Statistics : it consists of the data you have measured to form conclusion.\n",
    "e.g.,Are the height of the students in the class similar to the university height? \n"
   ]
  },
  {
   "cell_type": "markdown",
   "id": "cb512ab2-47de-4b02-8679-5d4e65d4b191",
   "metadata": {},
   "source": [
    "#3 \n",
    "Types of Data : \n",
    "    Quantitative > Numerical \n",
    "    Qualitative >Categorical \n",
    "e.g.,Quantitative : Height ,weight of student \n",
    "Qualitative > Sex of the person ,we can't give them ranks in the categorical data"
   ]
  },
  {
   "cell_type": "markdown",
   "id": "285b2b12-6f87-4a04-be0f-bffd4bd6deba",
   "metadata": {},
   "source": [
    "#4\n",
    "1. Qualitative \n",
    "2. Qualitative \n",
    "3. Quantitative\n",
    "4. Quantitative\n",
    " "
   ]
  },
  {
   "cell_type": "markdown",
   "id": "d50ae5e2-294c-473e-b32c-cdb82bfddd3a",
   "metadata": {},
   "source": [
    "#5\n",
    "1.Nominal Data : \n",
    "    simply categorizes variables according to qualitative labels (or names).\n",
    "    e.g.,hair color \n",
    "    \n",
    "2. Ordinal Data : \n",
    "    also categorizes variables into labeled groups, and these categories have an order or hierarchy to them.\n",
    "    e.g,High school,Master's degree \n",
    "\n",
    "3.Interval Data :\n",
    "    We can take the diffeence between the range.\n",
    "    e.g., Temperature \n",
    "\n",
    "4.Ratio Data : \n",
    "    We can take the ratio of the intervals or difference between specific range then this will sho as the arithmetic ratio of the same.\n",
    "    e.g, weights "
   ]
  },
  {
   "cell_type": "markdown",
   "id": "846c5433-6024-40fe-9065-d04b00a3dc58",
   "metadata": {},
   "source": [
    "#6\n",
    "The level of measurement determines the type of statistical analysis that can be conducted, and, therefore, the type of conclusions that can be drawn from the research.\n",
    "It is really important to estimate the correct level of measurement as lets say if we \n",
    "consider any data as the interval without knowing the context and then take it as the ratio then it will give \n",
    "wrong interpretation for example : temperature"
   ]
  },
  {
   "cell_type": "markdown",
   "id": "f833b58f-f654-474e-a767-bef9516d4f41",
   "metadata": {},
   "source": [
    "#7 \n",
    "Nominal vs ordinal : \n",
    "    Nominal is just simply categories the data into the labelled categories plus.example : weight of the body\n",
    "    Ordinal is also gives ranking of the hierarachy of the labelled categories .example : Good,bad,better"
   ]
  },
  {
   "cell_type": "markdown",
   "id": "ef5b409f-e01c-437d-a1c7-f3dc87b96595",
   "metadata": {},
   "source": [
    "#8\n",
    "Histogram"
   ]
  },
  {
   "cell_type": "markdown",
   "id": "2df54cc2-c10d-43f2-8d76-d216dc19350b",
   "metadata": {},
   "source": [
    "#9\n",
    "Descriptive Statistics : It is used to analysing and summarising the data\n",
    "Inferential Statistics : to find out the conclusion for the data based on the sample.\n",
    "\n",
    "To find the average height of the class is the descriptive statistics.\n",
    "To find the height of the university based out of the sample set of small class after implementing the hypothesis testing"
   ]
  },
  {
   "cell_type": "markdown",
   "id": "f35f3325-992c-4545-9de1-5642c72d035b",
   "metadata": {},
   "source": [
    "#10\n",
    "Measures of central tendency : \n",
    "    1. Mean \n",
    "    2. Median \n",
    "    3. Mode \n",
    "Variance : it is the measure of dispersion.\n",
    "\n",
    "Example :\n",
    "    Data = [1,2,3,4,5,2]\n",
    "    mean = (1+2+3+4+5+2)/6 = 17/6=2.99\n",
    "    \n",
    "    mode = maximum occurence of the data = 2\n",
    "    median = middle item of the sorted dataset.\n",
    "                    2+3/2 = 2.5\n",
    "        \n",
    "    variance just shows what is the spread of the data "
   ]
  },
  {
   "cell_type": "code",
   "execution_count": null,
   "id": "f584703c-cc6c-4317-a418-699a2ed307ef",
   "metadata": {},
   "outputs": [],
   "source": []
  }
 ],
 "metadata": {
  "kernelspec": {
   "display_name": "Python 3 (ipykernel)",
   "language": "python",
   "name": "python3"
  },
  "language_info": {
   "codemirror_mode": {
    "name": "ipython",
    "version": 3
   },
   "file_extension": ".py",
   "mimetype": "text/x-python",
   "name": "python",
   "nbconvert_exporter": "python",
   "pygments_lexer": "ipython3",
   "version": "3.10.8"
  }
 },
 "nbformat": 4,
 "nbformat_minor": 5
}
